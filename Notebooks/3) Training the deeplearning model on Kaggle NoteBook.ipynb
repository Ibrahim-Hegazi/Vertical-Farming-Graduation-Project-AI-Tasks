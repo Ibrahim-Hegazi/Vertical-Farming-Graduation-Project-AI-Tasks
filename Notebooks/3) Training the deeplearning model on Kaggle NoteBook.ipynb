{
 "cells": [
  {
   "cell_type": "code",
   "execution_count": 1,
   "id": "19f1316c",
   "metadata": {
    "_cell_guid": "b1076dfc-b9ad-4769-8c92-a6c4dae69d19",
    "_uuid": "8f2839f25d086af736a60e9eeb907d3b93b6e0e5",
    "execution": {
     "iopub.execute_input": "2025-04-29T21:06:07.465023Z",
     "iopub.status.busy": "2025-04-29T21:06:07.464197Z",
     "iopub.status.idle": "2025-04-29T21:06:07.468487Z",
     "shell.execute_reply": "2025-04-29T21:06:07.467707Z"
    },
    "papermill": {
     "duration": 0.009929,
     "end_time": "2025-04-29T21:06:07.469729",
     "exception": false,
     "start_time": "2025-04-29T21:06:07.459800",
     "status": "completed"
    },
    "tags": []
   },
   "outputs": [],
   "source": [
    "# %cd "
   ]
  },
  {
   "cell_type": "code",
   "execution_count": 2,
   "id": "292ac9bb",
   "metadata": {
    "execution": {
     "iopub.execute_input": "2025-04-29T21:06:07.476022Z",
     "iopub.status.busy": "2025-04-29T21:06:07.475669Z",
     "iopub.status.idle": "2025-04-29T21:06:07.478817Z",
     "shell.execute_reply": "2025-04-29T21:06:07.478149Z"
    },
    "papermill": {
     "duration": 0.007297,
     "end_time": "2025-04-29T21:06:07.479861",
     "exception": false,
     "start_time": "2025-04-29T21:06:07.472564",
     "status": "completed"
    },
    "tags": []
   },
   "outputs": [],
   "source": [
    "# import os\n",
    "# print(os.listdir(\"/kaggle/input/\"))"
   ]
  },
  {
   "cell_type": "code",
   "execution_count": 3,
   "id": "89ad27e5",
   "metadata": {
    "execution": {
     "iopub.execute_input": "2025-04-29T21:06:07.485838Z",
     "iopub.status.busy": "2025-04-29T21:06:07.485651Z",
     "iopub.status.idle": "2025-04-29T21:06:07.488499Z",
     "shell.execute_reply": "2025-04-29T21:06:07.488001Z"
    },
    "papermill": {
     "duration": 0.007101,
     "end_time": "2025-04-29T21:06:07.489660",
     "exception": false,
     "start_time": "2025-04-29T21:06:07.482559",
     "status": "completed"
    },
    "tags": []
   },
   "outputs": [],
   "source": [
    "# %cd \"/kaggle/input/final-stratified-dataset/Stratified Dataset\""
   ]
  },
  {
   "cell_type": "code",
   "execution_count": 4,
   "id": "314442ea",
   "metadata": {
    "execution": {
     "iopub.execute_input": "2025-04-29T21:06:07.495899Z",
     "iopub.status.busy": "2025-04-29T21:06:07.495350Z",
     "iopub.status.idle": "2025-04-29T21:06:07.498795Z",
     "shell.execute_reply": "2025-04-29T21:06:07.498062Z"
    },
    "papermill": {
     "duration": 0.007521,
     "end_time": "2025-04-29T21:06:07.499886",
     "exception": false,
     "start_time": "2025-04-29T21:06:07.492365",
     "status": "completed"
    },
    "tags": []
   },
   "outputs": [],
   "source": [
    "# ls"
   ]
  },
  {
   "cell_type": "code",
   "execution_count": 5,
   "id": "ae34b2fc",
   "metadata": {
    "execution": {
     "iopub.execute_input": "2025-04-29T21:06:07.506146Z",
     "iopub.status.busy": "2025-04-29T21:06:07.505547Z",
     "iopub.status.idle": "2025-04-29T21:06:07.509046Z",
     "shell.execute_reply": "2025-04-29T21:06:07.508373Z"
    },
    "papermill": {
     "duration": 0.007588,
     "end_time": "2025-04-29T21:06:07.510071",
     "exception": false,
     "start_time": "2025-04-29T21:06:07.502483",
     "status": "completed"
    },
    "tags": []
   },
   "outputs": [],
   "source": [
    "# %cd \"/kaggle/input/yolo-segmentation-model\""
   ]
  },
  {
   "cell_type": "code",
   "execution_count": 6,
   "id": "d598b017",
   "metadata": {
    "execution": {
     "iopub.execute_input": "2025-04-29T21:06:07.515800Z",
     "iopub.status.busy": "2025-04-29T21:06:07.515595Z",
     "iopub.status.idle": "2025-04-29T21:06:07.518582Z",
     "shell.execute_reply": "2025-04-29T21:06:07.518024Z"
    },
    "papermill": {
     "duration": 0.006963,
     "end_time": "2025-04-29T21:06:07.519544",
     "exception": false,
     "start_time": "2025-04-29T21:06:07.512581",
     "status": "completed"
    },
    "tags": []
   },
   "outputs": [],
   "source": [
    "# ls"
   ]
  },
  {
   "cell_type": "code",
   "execution_count": 7,
   "id": "c0063a9f",
   "metadata": {
    "execution": {
     "iopub.execute_input": "2025-04-29T21:06:07.525220Z",
     "iopub.status.busy": "2025-04-29T21:06:07.525028Z",
     "iopub.status.idle": "2025-04-29T21:06:07.527983Z",
     "shell.execute_reply": "2025-04-29T21:06:07.527404Z"
    },
    "papermill": {
     "duration": 0.006892,
     "end_time": "2025-04-29T21:06:07.528962",
     "exception": false,
     "start_time": "2025-04-29T21:06:07.522070",
     "status": "completed"
    },
    "tags": []
   },
   "outputs": [],
   "source": [
    "# %cd \"/kaggle/input/yolo-segmentation-model/pytorch/\""
   ]
  },
  {
   "cell_type": "code",
   "execution_count": 8,
   "id": "3ca3adfb",
   "metadata": {
    "execution": {
     "iopub.execute_input": "2025-04-29T21:06:07.534515Z",
     "iopub.status.busy": "2025-04-29T21:06:07.534303Z",
     "iopub.status.idle": "2025-04-29T21:06:07.537146Z",
     "shell.execute_reply": "2025-04-29T21:06:07.536606Z"
    },
    "papermill": {
     "duration": 0.006821,
     "end_time": "2025-04-29T21:06:07.538220",
     "exception": false,
     "start_time": "2025-04-29T21:06:07.531399",
     "status": "completed"
    },
    "tags": []
   },
   "outputs": [],
   "source": [
    "# ls"
   ]
  },
  {
   "cell_type": "code",
   "execution_count": 9,
   "id": "37cda31a",
   "metadata": {
    "execution": {
     "iopub.execute_input": "2025-04-29T21:06:07.543911Z",
     "iopub.status.busy": "2025-04-29T21:06:07.543728Z",
     "iopub.status.idle": "2025-04-29T21:06:07.546846Z",
     "shell.execute_reply": "2025-04-29T21:06:07.546085Z"
    },
    "papermill": {
     "duration": 0.007099,
     "end_time": "2025-04-29T21:06:07.547955",
     "exception": false,
     "start_time": "2025-04-29T21:06:07.540856",
     "status": "completed"
    },
    "tags": []
   },
   "outputs": [],
   "source": [
    "# %cd \"/kaggle/input/yolo-segmentation-model/pytorch/default/\""
   ]
  },
  {
   "cell_type": "code",
   "execution_count": 10,
   "id": "03ec6ed3",
   "metadata": {
    "execution": {
     "iopub.execute_input": "2025-04-29T21:06:07.553684Z",
     "iopub.status.busy": "2025-04-29T21:06:07.553482Z",
     "iopub.status.idle": "2025-04-29T21:06:07.556333Z",
     "shell.execute_reply": "2025-04-29T21:06:07.555793Z"
    },
    "papermill": {
     "duration": 0.006988,
     "end_time": "2025-04-29T21:06:07.557501",
     "exception": false,
     "start_time": "2025-04-29T21:06:07.550513",
     "status": "completed"
    },
    "tags": []
   },
   "outputs": [],
   "source": [
    "# ls"
   ]
  },
  {
   "cell_type": "code",
   "execution_count": 11,
   "id": "fc0cc306",
   "metadata": {
    "execution": {
     "iopub.execute_input": "2025-04-29T21:06:07.565363Z",
     "iopub.status.busy": "2025-04-29T21:06:07.564691Z",
     "iopub.status.idle": "2025-04-29T21:06:07.567954Z",
     "shell.execute_reply": "2025-04-29T21:06:07.567300Z"
    },
    "papermill": {
     "duration": 0.007703,
     "end_time": "2025-04-29T21:06:07.569066",
     "exception": false,
     "start_time": "2025-04-29T21:06:07.561363",
     "status": "completed"
    },
    "tags": []
   },
   "outputs": [],
   "source": [
    "# %cd \"/kaggle/input/yolo-segmentation-model/pytorch/default/1/\""
   ]
  },
  {
   "cell_type": "code",
   "execution_count": 12,
   "id": "a701bc65",
   "metadata": {
    "execution": {
     "iopub.execute_input": "2025-04-29T21:06:07.575023Z",
     "iopub.status.busy": "2025-04-29T21:06:07.574830Z",
     "iopub.status.idle": "2025-04-29T21:06:07.577754Z",
     "shell.execute_reply": "2025-04-29T21:06:07.577142Z"
    },
    "papermill": {
     "duration": 0.007048,
     "end_time": "2025-04-29T21:06:07.578808",
     "exception": false,
     "start_time": "2025-04-29T21:06:07.571760",
     "status": "completed"
    },
    "tags": []
   },
   "outputs": [],
   "source": [
    "# ls"
   ]
  },
  {
   "cell_type": "code",
   "execution_count": 13,
   "id": "e705d9da",
   "metadata": {
    "execution": {
     "iopub.execute_input": "2025-04-29T21:06:07.585369Z",
     "iopub.status.busy": "2025-04-29T21:06:07.584744Z",
     "iopub.status.idle": "2025-04-29T21:06:07.587861Z",
     "shell.execute_reply": "2025-04-29T21:06:07.587274Z"
    },
    "papermill": {
     "duration": 0.007379,
     "end_time": "2025-04-29T21:06:07.588942",
     "exception": false,
     "start_time": "2025-04-29T21:06:07.581563",
     "status": "completed"
    },
    "tags": []
   },
   "outputs": [],
   "source": [
    "# pip install ultralytics"
   ]
  },
  {
   "cell_type": "code",
   "execution_count": 14,
   "id": "570158ef",
   "metadata": {
    "execution": {
     "iopub.execute_input": "2025-04-29T21:06:07.595381Z",
     "iopub.status.busy": "2025-04-29T21:06:07.594627Z",
     "iopub.status.idle": "2025-04-29T21:06:07.598354Z",
     "shell.execute_reply": "2025-04-29T21:06:07.597578Z"
    },
    "papermill": {
     "duration": 0.007796,
     "end_time": "2025-04-29T21:06:07.599373",
     "exception": false,
     "start_time": "2025-04-29T21:06:07.591577",
     "status": "completed"
    },
    "tags": []
   },
   "outputs": [],
   "source": [
    "# from ultralytics import YOLO\n",
    "\n",
    "# # ✅ Fine-tune a pre-trained model\n",
    "# model = YOLO(\"/kaggle/input/yolo-segmentation-model/pytorch/default/1/yolov8n-seg.pt\")  # Loads a pre-trained YOLOv8 segmentation model\n",
    "\n",
    "# # Train the model\n",
    "# results = model.train(\n",
    "#     data=\"/kaggle/input/dataset-yaml/dataset.yaml\",  # Path to dataset config\n",
    "#     epochs=100,           # Training for 100 epochs\n",
    "#     imgsz=419,            # Image size\n",
    "#     batch=16,             # Batch size\n",
    "#     name=\"strawberry_seg\", # Experiment name\n",
    "#     project=\"/kaggle/working/\",  # Save outputs to the writable directory\n",
    "#     #cache=True,           # Enable caching\n",
    "#     #cache_dir=\"/kaggle/working/cache\",  # Specify a writable cache directory\n",
    "#     #save=True,            # Save the model weights\n",
    "#     #save_period=-1,       # Save every epoch\n",
    "# )"
   ]
  },
  {
   "cell_type": "code",
   "execution_count": 15,
   "id": "60dfbde9",
   "metadata": {
    "execution": {
     "iopub.execute_input": "2025-04-29T21:06:07.604957Z",
     "iopub.status.busy": "2025-04-29T21:06:07.604759Z",
     "iopub.status.idle": "2025-04-29T21:06:07.607806Z",
     "shell.execute_reply": "2025-04-29T21:06:07.607100Z"
    },
    "papermill": {
     "duration": 0.006946,
     "end_time": "2025-04-29T21:06:07.608803",
     "exception": false,
     "start_time": "2025-04-29T21:06:07.601857",
     "status": "completed"
    },
    "tags": []
   },
   "outputs": [],
   "source": [
    "# !zip -r /kaggle/working/ModelOutput.zip /kaggle/working/strawberry_seg"
   ]
  },
  {
   "cell_type": "code",
   "execution_count": 16,
   "id": "48dd4e8d",
   "metadata": {
    "execution": {
     "iopub.execute_input": "2025-04-29T21:06:07.614531Z",
     "iopub.status.busy": "2025-04-29T21:06:07.614305Z",
     "iopub.status.idle": "2025-04-29T21:06:07.617328Z",
     "shell.execute_reply": "2025-04-29T21:06:07.616621Z"
    },
    "papermill": {
     "duration": 0.007104,
     "end_time": "2025-04-29T21:06:07.618383",
     "exception": false,
     "start_time": "2025-04-29T21:06:07.611279",
     "status": "completed"
    },
    "tags": []
   },
   "outputs": [],
   "source": [
    "# from IPython.display import FileLink\n",
    "# FileLink('ModelOutput.zip')\n",
    "# FileLink('ModelOutput.zip', result_html_prefix=\"Download ZIP: \")\n"
   ]
  },
  {
   "cell_type": "code",
   "execution_count": null,
   "id": "106739d3",
   "metadata": {
    "papermill": {
     "duration": 0.002288,
     "end_time": "2025-04-29T21:06:07.623126",
     "exception": false,
     "start_time": "2025-04-29T21:06:07.620838",
     "status": "completed"
    },
    "tags": []
   },
   "outputs": [],
   "source": []
  }
 ],
 "metadata": {
  "kaggle": {
   "accelerator": "gpu",
   "dataSources": [
    {
     "datasetId": 7277036,
     "sourceId": 11602728,
     "sourceType": "datasetVersion"
    },
    {
     "datasetId": 7277410,
     "sourceId": 11603223,
     "sourceType": "datasetVersion"
    },
    {
     "isSourceIdPinned": true,
     "modelId": 321858,
     "modelInstanceId": 301332,
     "sourceId": 362843,
     "sourceType": "modelInstanceVersion"
    }
   ],
   "dockerImageVersionId": 31012,
   "isGpuEnabled": true,
   "isInternetEnabled": true,
   "language": "python",
   "sourceType": "notebook"
  },
  "kernelspec": {
   "display_name": "Python 3",
   "language": "python",
   "name": "python3"
  },
  "language_info": {
   "codemirror_mode": {
    "name": "ipython",
    "version": 3
   },
   "file_extension": ".py",
   "mimetype": "text/x-python",
   "name": "python",
   "nbconvert_exporter": "python",
   "pygments_lexer": "ipython3",
   "version": "3.11.11"
  },
  "papermill": {
   "default_parameters": {},
   "duration": 4.831779,
   "end_time": "2025-04-29T21:06:07.942581",
   "environment_variables": {},
   "exception": null,
   "input_path": "__notebook__.ipynb",
   "output_path": "__notebook__.ipynb",
   "parameters": {},
   "start_time": "2025-04-29T21:06:03.110802",
   "version": "2.6.0"
  }
 },
 "nbformat": 4,
 "nbformat_minor": 5
}
